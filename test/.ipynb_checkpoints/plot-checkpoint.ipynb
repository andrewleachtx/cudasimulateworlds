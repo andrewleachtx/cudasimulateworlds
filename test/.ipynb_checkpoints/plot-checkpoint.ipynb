{
 "cells": [
  {
   "cell_type": "code",
   "execution_count": 13,
   "metadata": {},
   "outputs": [
    {
     "name": "stdout",
     "output_type": "stream",
     "text": [
      "['./results/stdout\\\\out_1.txt', './results/stdout\\\\out_1024.txt', './results/stdout\\\\out_128.txt', './results/stdout\\\\out_16.txt', './results/stdout\\\\out_16384.txt', './results/stdout\\\\out_2.txt', './results/stdout\\\\out_2048.txt', './results/stdout\\\\out_256.txt', './results/stdout\\\\out_32.txt', './results/stdout\\\\out_4.txt', './results/stdout\\\\out_4096.txt', './results/stdout\\\\out_512.txt', './results/stdout\\\\out_64.txt', './results/stdout\\\\out_8.txt', './results/stdout\\\\out_8192.txt']\n"
     ]
    }
   ],
   "source": [
    "import glob\n",
    "import re\n",
    "import matplotlib.pyplot as plt\n",
    "import pandas as pd\n",
    "import seaborn\n",
    "from matplotlib import ticker\n",
    "\n",
    "seaborn.set()\n",
    "\n",
    "# you will probably have to change this\n",
    "file_pattern = \"./results/stdout/out_*.txt\"\n",
    "stdout_files = glob.glob(file_pattern)\n",
    "\n",
    "print(stdout_files)"
   ]
  },
  {
   "cell_type": "code",
   "execution_count": 17,
   "metadata": {},
   "outputs": [
    {
     "name": "stdout",
     "output_type": "stream",
     "text": [
      "{'before_num_worlds': [('1',), ('1024',), ('128',), ('16',), ('16384',), ('2',), ('2048',), ('256',), ('32',), ('4',), ('4096',), ('512',), ('64',), ('8',), ('8192',)], 'before_allocating': [('2304', '25282281472'), ('2359296', '25282281472'), ('294912', '25282281472'), ('36864', '25282281472'), ('37748736', '25282281472'), ('4608', '25282281472'), ('4718592', '25282281472'), ('589824', '25282281472'), ('73728', '25282281472'), ('9216', '25282281472'), ('9437184', '25282281472'), ('1179648', '25282281472'), ('147456', '25282281472'), ('18432', '25282281472'), ('18874368', '25282281472')], 'before_actual_program_time': [('189',), ('480',), ('372',), ('261',), ('2100',), ('186',), ('538',), ('400',), ('296',), ('207',), ('618',), ('424',), ('336',), ('229',), ('1255',)], 'before_avg_simulateKernel_time': [('6575', '0.021439'), ('7724', '0.053425'), ('6625', '0.048564'), ('6597', '0.031946'), ('12368', '0.140693'), ('6558', '0.020651'), ('7899', '0.057941'), ('6662', '0.052087'), ('6616', '0.037169'), ('6592', '0.023787'), ('6787', '0.077520'), ('6698', '0.055162'), ('6616', '0.043263'), ('6609', '0.027232'), ('11580', '0.088632')], 'before_total_kernel_time': [('140.960938',), ('412.655151',), ('321.733337',), ('210.749741',), ('1740.089600',), ('135.427505',), ('457.679230',), ('347.003906',), ('245.912399',), ('156.805771',), ('526.127014',), ('369.472656',), ('286.231262',), ('179.978073',), ('1026.355591',)], 'before_kernel_time_ratio': [('0.745825',), ('0.859698',), ('0.864875',), ('0.807470',), ('0.828614',), ('0.728105',), ('0.850705',), ('0.867510',), ('0.830785',), ('0.757516',), ('0.851338',), ('0.871398',), ('0.851879',), ('0.785930',), ('0.817813',)], 'after_num_worlds': [('1',), ('1024',), ('128',), ('16',), ('16384',), ('2',), ('2048',), ('256',), ('32',), ('4',), ('4096',), ('512',), ('64',), ('8',), ('8192',)], 'after_allocating': [('2304', '25282281472'), ('2359296', '25282281472'), ('294912', '25282281472'), ('36864', '25282281472'), ('37748736', '25282281472'), ('4608', '25282281472'), ('4718592', '25282281472'), ('589824', '25282281472'), ('73728', '25282281472'), ('9216', '25282281472'), ('9437184', '25282281472'), ('1179648', '25282281472'), ('147456', '25282281472'), ('18432', '25282281472'), ('18874368', '25282281472')], 'after_actual_program_time': [('142',), ('369',), ('315',), ('222',), ('1215',), ('151',), ('416',), ('334',), ('255',), ('170',), ('529',), ('350',), ('289',), ('191',), ('759',)], 'after_avg_simulateKernel_time': [('10000', '0.010459'), ('10000', '0.033176'), ('10000', '0.027733'), ('10000', '0.018440'), ('10000', '0.117733'), ('10000', '0.011296'), ('10000', '0.037720'), ('10000', '0.029582'), ('10000', '0.021864'), ('10000', '0.013205'), ('10000', '0.049195'), ('10000', '0.031263'), ('10000', '0.025125'), ('10000', '0.015327'), ('10000', '0.072154')], 'after_total_kernel_time': [('104.589386',), ('331.762085',), ('277.327820',), ('184.399368',), ('1177.332642',), ('112.959633',), ('377.200928',), ('295.815674',), ('218.641678',), ('132.049820',), ('491.948090',), ('312.629395',), ('251.249420',), ('153.265274',), ('721.544434',)], 'after_kernel_time_ratio': [('0.736545',), ('0.899084',), ('0.880406',), ('0.830628',), ('0.968998',), ('0.748077',), ('0.906733',), ('0.885676',), ('0.857418',), ('0.776764',), ('0.929959',), ('0.893227',), ('0.869375',), ('0.802436',), ('0.950651',)]}\n"
     ]
    }
   ],
   "source": [
    "# these are the only relevant ones, at least\n",
    "patterns = {\n",
    "    \"num_worlds\": r\"Running with (\\d+) Worlds:\",\n",
    "    \"allocating\": r\"\\[INFO\\] Allocating (\\d+) of (\\d+) bytes on device\",\n",
    "    \"actual_program_time\": r\"\\[BENCHMARK\\] Actual program time: ([\\d\\.]+) ms\",\n",
    "    \"avg_simulateKernel_time\": r\"\\[BENCHMARK\\] Average individual simulateKernel\\(\\) time over (\\d+) samples: ([\\d\\.]+) ms\",\n",
    "    \"total_kernel_time\": r\"\\[BENCHMARK\\] Total time spent in kernel before global convergence: ([\\d\\.]+) ms\",\n",
    "    \"kernel_time_ratio\": r\"\\[BENCHMARK\\] Kernel time / total program time: ([\\d\\.]+)\",\n",
    "}\n",
    "\n",
    "data = {f\"before_{k}\":[] for k in patterns}\n",
    "data.update({f\"after_{k}\":[] for k in patterns})\n",
    "\n",
    "for filename in stdout_files:\n",
    "    with open(filename, 'r') as f:\n",
    "        content = f.read()\n",
    "\n",
    "    # let me put you on game: put any string in a quick cmd -> py -> len(\"<string>\")\n",
    "    sep = content.split(\"-\" * 27)\n",
    "\n",
    "    # there is an invalid - * 27 at the top line\n",
    "    for i, partition in enumerate(sep[1:]):\n",
    "        part = \"before\" if i == 0 else \"after\"\n",
    "        for key, pattern in patterns.items():\n",
    "            match = re.search(pattern, partition)\n",
    "            if match:\n",
    "                data[f\"{part}_{key}\"].append(match.groups())\n",
    "\n",
    "print(data)"
   ]
  },
  {
   "cell_type": "code",
   "execution_count": 18,
   "metadata": {},
   "outputs": [
    {
     "name": "stdout",
     "output_type": "stream",
     "text": [
      "  before_num_worlds        before_allocating before_actual_program_time  \\\n",
      "0              (1,)      (2304, 25282281472)                     (189,)   \n",
      "1           (1024,)   (2359296, 25282281472)                     (480,)   \n",
      "2            (128,)    (294912, 25282281472)                     (372,)   \n",
      "3             (16,)     (36864, 25282281472)                     (261,)   \n",
      "4          (16384,)  (37748736, 25282281472)                    (2100,)   \n",
      "\n",
      "  before_avg_simulateKernel_time before_total_kernel_time  \\\n",
      "0               (6575, 0.021439)            (140.960938,)   \n",
      "1               (7724, 0.053425)            (412.655151,)   \n",
      "2               (6625, 0.048564)            (321.733337,)   \n",
      "3               (6597, 0.031946)            (210.749741,)   \n",
      "4              (12368, 0.140693)           (1740.089600,)   \n",
      "\n",
      "  before_kernel_time_ratio after_num_worlds         after_allocating  \\\n",
      "0              (0.745825,)             (1,)      (2304, 25282281472)   \n",
      "1              (0.859698,)          (1024,)   (2359296, 25282281472)   \n",
      "2              (0.864875,)           (128,)    (294912, 25282281472)   \n",
      "3              (0.807470,)            (16,)     (36864, 25282281472)   \n",
      "4              (0.828614,)         (16384,)  (37748736, 25282281472)   \n",
      "\n",
      "  after_actual_program_time after_avg_simulateKernel_time  \\\n",
      "0                    (142,)             (10000, 0.010459)   \n",
      "1                    (369,)             (10000, 0.033176)   \n",
      "2                    (315,)             (10000, 0.027733)   \n",
      "3                    (222,)             (10000, 0.018440)   \n",
      "4                   (1215,)             (10000, 0.117733)   \n",
      "\n",
      "  after_total_kernel_time after_kernel_time_ratio  \n",
      "0           (104.589386,)             (0.736545,)  \n",
      "1           (331.762085,)             (0.899084,)  \n",
      "2           (277.327820,)             (0.880406,)  \n",
      "3           (184.399368,)             (0.830628,)  \n",
      "4          (1177.332642,)             (0.968998,)  \n"
     ]
    }
   ],
   "source": [
    "df = pd.DataFrame(data)\n",
    "print(df.head())"
   ]
  }
 ],
 "metadata": {
  "kernelspec": {
   "display_name": "Python 3",
   "language": "python",
   "name": "python3"
  },
  "language_info": {
   "codemirror_mode": {
    "name": "ipython",
    "version": 3
   },
   "file_extension": ".py",
   "mimetype": "text/x-python",
   "name": "python",
   "nbconvert_exporter": "python",
   "pygments_lexer": "ipython3",
   "version": "3.8.8"
  }
 },
 "nbformat": 4,
 "nbformat_minor": 1
}
